{
 "cells": [
  {
   "cell_type": "markdown",
   "metadata": {},
   "source": [
    "Maximum Subarray Problem [Brute Force Method with O(n^2)]"
   ]
  },
  {
   "cell_type": "code",
   "execution_count": 32,
   "metadata": {},
   "outputs": [],
   "source": [
    "def maxSubArr(arr): \n",
    "    largest = 0\n",
    "    current = 0\n",
    "    \n",
    "    for i in range(0,len(arr)):\n",
    "        j = i\n",
    "        while j<=len(arr):\n",
    "            curArr = arr[i:j]\n",
    "            print(curArr)\n",
    "            current = sum(curArr) #current subarray\n",
    "            if current > largest:\n",
    "                largest = current\n",
    "            j = j+1\n",
    "    return largest"
   ]
  },
  {
   "cell_type": "code",
   "execution_count": 33,
   "metadata": {},
   "outputs": [
    {
     "name": "stdout",
     "output_type": "stream",
     "text": [
      "[]\n",
      "[7]\n",
      "[7, 20]\n",
      "[7, 20, -300]\n",
      "[7, 20, -300, 65]\n",
      "[7, 20, -300, 65, 810]\n",
      "[7, 20, -300, 65, 810, -21]\n",
      "[]\n",
      "[20]\n",
      "[20, -300]\n",
      "[20, -300, 65]\n",
      "[20, -300, 65, 810]\n",
      "[20, -300, 65, 810, -21]\n",
      "[]\n",
      "[-300]\n",
      "[-300, 65]\n",
      "[-300, 65, 810]\n",
      "[-300, 65, 810, -21]\n",
      "[]\n",
      "[65]\n",
      "[65, 810]\n",
      "[65, 810, -21]\n",
      "[]\n",
      "[810]\n",
      "[810, -21]\n",
      "[]\n",
      "[-21]\n"
     ]
    },
    {
     "data": {
      "text/plain": [
       "875"
      ]
     },
     "execution_count": 33,
     "metadata": {},
     "output_type": "execute_result"
    }
   ],
   "source": [
    "l1 = [7,20,-300,65,810,-21]\n",
    "maxSubArr(l1)"
   ]
  },
  {
   "cell_type": "code",
   "execution_count": 27,
   "metadata": {},
   "outputs": [
    {
     "data": {
      "text/plain": [
       "[1]"
      ]
     },
     "execution_count": 27,
     "metadata": {},
     "output_type": "execute_result"
    }
   ],
   "source": []
  },
  {
   "cell_type": "code",
   "execution_count": null,
   "metadata": {},
   "outputs": [],
   "source": []
  }
 ],
 "metadata": {
  "kernelspec": {
   "display_name": "Python 3",
   "language": "python",
   "name": "python3"
  },
  "language_info": {
   "codemirror_mode": {
    "name": "ipython",
    "version": 3
   },
   "file_extension": ".py",
   "mimetype": "text/x-python",
   "name": "python",
   "nbconvert_exporter": "python",
   "pygments_lexer": "ipython3",
   "version": "3.7.4"
  }
 },
 "nbformat": 4,
 "nbformat_minor": 2
}
